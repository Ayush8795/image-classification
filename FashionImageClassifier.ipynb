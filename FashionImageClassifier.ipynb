{
  "cells": [
    {
      "cell_type": "markdown",
      "metadata": {
        "id": "view-in-github",
        "colab_type": "text"
      },
      "source": [
        "<a href=\"https://colab.research.google.com/github/Ayush8795/image-classification/blob/main/FashionImageClassifier.ipynb\" target=\"_parent\"><img src=\"https://colab.research.google.com/assets/colab-badge.svg\" alt=\"Open In Colab\"/></a>"
      ]
    },
    {
      "cell_type": "code",
      "execution_count": null,
      "metadata": {
        "id": "m2t-gr33GJT-"
      },
      "outputs": [],
      "source": [
        "import numpy as np\n",
        "import os\n",
        "import cv2\n",
        "import tensorflow\n",
        "import pandas as pd\n",
        "from imutils import paths"
      ]
    },
    {
      "cell_type": "code",
      "execution_count": null,
      "metadata": {
        "id": "XU-sXtBsGfYl"
      },
      "outputs": [],
      "source": [
        "datafilepath= \"/content/drive/MyDrive/Flipkart/FASHION\"\n",
        "epoch= 50"
      ]
    },
    {
      "cell_type": "code",
      "execution_count": null,
      "metadata": {
        "id": "AhX2lEYlHEn9"
      },
      "outputs": [],
      "source": [
        "from sklearn.preprocessing import LabelBinarizer\n",
        "from sklearn.model_selection import train_test_split as tts"
      ]
    },
    {
      "cell_type": "code",
      "execution_count": null,
      "metadata": {
        "id": "X0gxarqtKYpS"
      },
      "outputs": [],
      "source": [
        "from tensorflow.keras.preprocessing.image import ImageDataGenerator"
      ]
    },
    {
      "cell_type": "code",
      "execution_count": null,
      "metadata": {
        "id": "CBSSi4_AGj-n"
      },
      "outputs": [],
      "source": [
        "outputmodel= \"/content/drive/MyDrive/Flipkart/model_output/imgclassmodel\"\n",
        "outputlabelbinarizer= \"/content/drive/MyDrive/Flipkart/model_output/imgclassbin\""
      ]
    },
    {
      "cell_type": "code",
      "execution_count": null,
      "metadata": {
        "colab": {
          "base_uri": "https://localhost:8080/"
        },
        "id": "eXKnfsoBHaAY",
        "outputId": "8c69cb2d-d06d-4422-8379-c883544230e0"
      },
      "outputs": [
        {
          "output_type": "stream",
          "name": "stdout",
          "text": [
            "Images is being loaded...\n"
          ]
        }
      ],
      "source": [
        "fashionlabels=set(['Caps and Hats','Lower Wears','Shoes and Boots','Upper Wears'])\n",
        "print(\"Images is being loaded...\")\n",
        "pathToImages= list(paths.list_images(datafilepath))\n",
        "data=[]\n",
        "labels=[]\n",
        "\n",
        "for images in pathToImages:\n",
        "  label= images.split(os.path.sep)[-2]\n",
        "  if label not in fashionlabels:\n",
        "    continue\n",
        "  image= cv2.imread(images)\n",
        "  image= cv2.cvtColor(image, cv2.COLOR_BGR2RGB)\n",
        "  image= cv2.resize(image,(224,224))\n",
        "  data.append(image)\n",
        "  labels.append(label)"
      ]
    },
    {
      "cell_type": "code",
      "execution_count": null,
      "metadata": {
        "colab": {
          "base_uri": "https://localhost:8080/"
        },
        "id": "krF8i_Z5ho0Z",
        "outputId": "625f3e2e-88e3-466b-c685-85a9744059ec"
      },
      "outputs": [
        {
          "output_type": "stream",
          "name": "stdout",
          "text": [
            "['Lower Wears', 'Lower Wears', 'Lower Wears', 'Lower Wears', 'Lower Wears', 'Lower Wears', 'Lower Wears', 'Lower Wears', 'Lower Wears', 'Lower Wears', 'Lower Wears', 'Lower Wears', 'Lower Wears', 'Lower Wears', 'Lower Wears', 'Lower Wears', 'Lower Wears', 'Lower Wears', 'Lower Wears', 'Lower Wears', 'Lower Wears', 'Lower Wears', 'Lower Wears', 'Lower Wears', 'Lower Wears', 'Lower Wears', 'Lower Wears', 'Lower Wears', 'Lower Wears', 'Lower Wears', 'Lower Wears', 'Lower Wears', 'Lower Wears', 'Lower Wears', 'Lower Wears', 'Lower Wears', 'Lower Wears', 'Lower Wears', 'Lower Wears', 'Lower Wears', 'Lower Wears', 'Lower Wears', 'Lower Wears', 'Shoes and Boots', 'Shoes and Boots', 'Shoes and Boots', 'Shoes and Boots', 'Shoes and Boots', 'Shoes and Boots', 'Shoes and Boots', 'Shoes and Boots', 'Shoes and Boots', 'Shoes and Boots', 'Shoes and Boots', 'Shoes and Boots', 'Shoes and Boots', 'Shoes and Boots', 'Shoes and Boots', 'Shoes and Boots', 'Shoes and Boots', 'Shoes and Boots', 'Shoes and Boots', 'Shoes and Boots', 'Shoes and Boots', 'Shoes and Boots', 'Shoes and Boots', 'Shoes and Boots', 'Shoes and Boots', 'Shoes and Boots', 'Shoes and Boots', 'Shoes and Boots', 'Shoes and Boots', 'Shoes and Boots', 'Shoes and Boots', 'Shoes and Boots', 'Shoes and Boots', 'Shoes and Boots', 'Shoes and Boots', 'Shoes and Boots', 'Shoes and Boots', 'Shoes and Boots', 'Shoes and Boots', 'Shoes and Boots', 'Shoes and Boots', 'Shoes and Boots', 'Shoes and Boots', 'Shoes and Boots', 'Shoes and Boots', 'Shoes and Boots', 'Shoes and Boots', 'Shoes and Boots', 'Shoes and Boots', 'Shoes and Boots', 'Shoes and Boots', 'Shoes and Boots', 'Shoes and Boots', 'Shoes and Boots', 'Shoes and Boots', 'Shoes and Boots', 'Shoes and Boots', 'Shoes and Boots', 'Shoes and Boots', 'Shoes and Boots', 'Shoes and Boots', 'Shoes and Boots', 'Shoes and Boots', 'Shoes and Boots', 'Shoes and Boots', 'Shoes and Boots', 'Shoes and Boots', 'Shoes and Boots', 'Shoes and Boots', 'Shoes and Boots', 'Upper Wears', 'Upper Wears', 'Upper Wears', 'Upper Wears', 'Upper Wears', 'Upper Wears', 'Upper Wears', 'Upper Wears', 'Upper Wears', 'Upper Wears', 'Upper Wears', 'Upper Wears', 'Upper Wears', 'Upper Wears', 'Upper Wears', 'Upper Wears', 'Upper Wears', 'Upper Wears', 'Upper Wears', 'Upper Wears', 'Upper Wears', 'Upper Wears', 'Upper Wears', 'Upper Wears', 'Upper Wears', 'Upper Wears', 'Upper Wears', 'Upper Wears', 'Upper Wears', 'Upper Wears', 'Upper Wears', 'Upper Wears', 'Upper Wears', 'Upper Wears', 'Upper Wears', 'Upper Wears', 'Upper Wears', 'Upper Wears', 'Upper Wears', 'Upper Wears', 'Upper Wears', 'Upper Wears', 'Upper Wears', 'Upper Wears', 'Upper Wears', 'Upper Wears', 'Upper Wears', 'Upper Wears', 'Upper Wears', 'Upper Wears', 'Upper Wears', 'Caps and Hats', 'Caps and Hats', 'Caps and Hats', 'Caps and Hats', 'Caps and Hats', 'Caps and Hats', 'Caps and Hats', 'Caps and Hats', 'Caps and Hats', 'Caps and Hats', 'Caps and Hats', 'Caps and Hats', 'Caps and Hats', 'Caps and Hats', 'Caps and Hats', 'Caps and Hats', 'Caps and Hats', 'Caps and Hats', 'Caps and Hats', 'Caps and Hats', 'Caps and Hats', 'Caps and Hats', 'Caps and Hats', 'Caps and Hats', 'Caps and Hats', 'Caps and Hats', 'Caps and Hats', 'Caps and Hats', 'Caps and Hats', 'Caps and Hats', 'Caps and Hats', 'Caps and Hats', 'Caps and Hats', 'Caps and Hats', 'Caps and Hats', 'Caps and Hats', 'Caps and Hats', 'Caps and Hats', 'Caps and Hats', 'Caps and Hats', 'Caps and Hats', 'Caps and Hats', 'Caps and Hats', 'Caps and Hats', 'Caps and Hats', 'Caps and Hats', 'Caps and Hats', 'Caps and Hats', 'Caps and Hats', 'Caps and Hats', 'Caps and Hats', 'Caps and Hats', 'Caps and Hats', 'Caps and Hats', 'Caps and Hats', 'Caps and Hats', 'Caps and Hats', 'Caps and Hats', 'Caps and Hats', 'Caps and Hats', 'Caps and Hats', 'Caps and Hats', 'Caps and Hats', 'Caps and Hats', 'Caps and Hats', 'Caps and Hats']\n"
          ]
        }
      ],
      "source": [
        "print(labels)"
      ]
    },
    {
      "cell_type": "code",
      "execution_count": null,
      "metadata": {
        "id": "jbbmQ8CII0j1"
      },
      "outputs": [],
      "source": [
        "data= np.array(data)\n",
        "labels= np.array(labels)\n",
        "\n",
        "lb= LabelBinarizer()\n",
        "labels= lb.fit_transform(labels)"
      ]
    },
    {
      "cell_type": "code",
      "execution_count": null,
      "metadata": {
        "id": "5P0kavYOJiLO"
      },
      "outputs": [],
      "source": [
        "(x_train,x_test,y_train,y_test)= tts(data, labels, test_size=0.25, stratify= labels, random_state= 42)"
      ]
    },
    {
      "cell_type": "code",
      "execution_count": null,
      "metadata": {
        "id": "jYdLVtMBKDjG"
      },
      "outputs": [],
      "source": [
        "trainAug= ImageDataGenerator(\n",
        "    rotation_range= 30,\n",
        "    zoom_range= 0.15,\n",
        "    width_shift_range= 0.2,\n",
        "    height_shift_range= 0.2,\n",
        "    shear_range= 0.15,\n",
        "    horizontal_flip= True,\n",
        "    fill_mode= \"nearest\"\n",
        ")\n",
        "\n",
        "validAug= ImageDataGenerator()\n",
        "mean= np.array([123.68,116.779,103.939],dtype= \"float32\")\n",
        "trainAug.mean= mean\n",
        "validAug.mean= mean"
      ]
    },
    {
      "cell_type": "code",
      "execution_count": null,
      "metadata": {
        "id": "PROdJGZuLuFe"
      },
      "outputs": [],
      "source": [
        "from tensorflow import keras as k"
      ]
    },
    {
      "cell_type": "code",
      "execution_count": null,
      "metadata": {
        "id": "OreYXPCBL3h5"
      },
      "outputs": [],
      "source": [
        "from keras.layers import Input\n",
        "from keras.layers.pooling import AveragePooling2D\n",
        "from keras.applications.resnet import ResNet50\n",
        "from keras.layers.core import Flatten\n",
        "from keras.layers.core import Dense\n",
        "\n",
        "from keras.layers.core import Dropout\n",
        "from keras.models import Model"
      ]
    },
    {
      "cell_type": "code",
      "execution_count": null,
      "metadata": {
        "id": "JQwKAl3hMrHC",
        "colab": {
          "base_uri": "https://localhost:8080/"
        },
        "outputId": "97554121-aff4-4e44-b05b-21d20e3817ce"
      },
      "outputs": [
        {
          "output_type": "stream",
          "name": "stdout",
          "text": [
            "Downloading data from https://storage.googleapis.com/tensorflow/keras-applications/resnet/resnet50_weights_tf_dim_ordering_tf_kernels_notop.h5\n",
            "94773248/94765736 [==============================] - 0s 0us/step\n",
            "94781440/94765736 [==============================] - 0s 0us/step\n"
          ]
        }
      ],
      "source": [
        "baseModel= ResNet50(weights= \"imagenet\", include_top= False, input_tensor=Input(shape=(224,244,3)))\n",
        "headModel= baseModel.output\n",
        "headModel= AveragePooling2D(pool_size=(7,7))(headModel)\n",
        "headModel= Flatten(name= \"flatten\")(headModel)\n",
        "headModel= Dense(512, activation= \"relu\")(headModel)\n",
        "headModel= Dropout(0.5)(headModel)\n",
        "headModel= Dense(len(lb.classes_),activation=\"softmax\")(headModel)\n",
        "model= Model(inputs= baseModel.inputs, outputs= headModel)\n",
        "for bml in baseModel.layers:\n",
        "  bml.trainable= False"
      ]
    },
    {
      "cell_type": "code",
      "execution_count": null,
      "metadata": {
        "id": "VEz_7AefSN9o"
      },
      "outputs": [],
      "source": [
        "from tensorflow.keras.optimizers import SGD"
      ]
    },
    {
      "cell_type": "code",
      "execution_count": null,
      "metadata": {
        "colab": {
          "base_uri": "https://localhost:8080/"
        },
        "id": "cQpqJyeOTGBn",
        "outputId": "3c526ea8-10e0-46fe-ebe2-41e9e243e934"
      },
      "outputs": [
        {
          "output_type": "stream",
          "name": "stderr",
          "text": [
            "/usr/local/lib/python3.7/dist-packages/keras/optimizer_v2/gradient_descent.py:102: UserWarning: The `lr` argument is deprecated, use `learning_rate` instead.\n",
            "  super(SGD, self).__init__(name, **kwargs)\n"
          ]
        }
      ],
      "source": [
        "opt= SGD(lr= 0.001, momentum= 0.9, decay= 1e-4/epoch)"
      ]
    },
    {
      "cell_type": "code",
      "execution_count": null,
      "metadata": {
        "id": "-eSEkw5wTYFe"
      },
      "outputs": [],
      "source": [
        "model.compile(loss= \"categorical_crossentropy\", optimizer= opt, metrics= [\"accuracy\"])"
      ]
    },
    {
      "cell_type": "code",
      "execution_count": null,
      "metadata": {
        "colab": {
          "base_uri": "https://localhost:8080/"
        },
        "id": "pc4vwiRJTou7",
        "outputId": "226c4c5f-45ae-470f-a509-cc49beec26eb"
      },
      "outputs": [
        {
          "output_type": "stream",
          "name": "stderr",
          "text": [
            "/usr/local/lib/python3.7/dist-packages/ipykernel_launcher.py:6: UserWarning: `Model.fit_generator` is deprecated and will be removed in a future version. Please use `Model.fit`, which supports generators.\n",
            "  \n"
          ]
        },
        {
          "output_type": "stream",
          "name": "stdout",
          "text": [
            "Epoch 1/50\n",
            "5/5 [==============================] - 16s 566ms/step - loss: 2.1121 - accuracy: 0.2357 - val_loss: 1.3136 - val_accuracy: 0.5312\n",
            "Epoch 2/50\n",
            "5/5 [==============================] - 2s 393ms/step - loss: 1.5694 - accuracy: 0.4143 - val_loss: 0.8638 - val_accuracy: 0.6562\n",
            "Epoch 3/50\n",
            "5/5 [==============================] - 2s 331ms/step - loss: 1.0585 - accuracy: 0.5929 - val_loss: 0.7777 - val_accuracy: 0.6250\n",
            "Epoch 4/50\n",
            "5/5 [==============================] - 2s 383ms/step - loss: 0.7670 - accuracy: 0.7063 - val_loss: 0.7263 - val_accuracy: 0.7188\n",
            "Epoch 5/50\n",
            "5/5 [==============================] - 2s 392ms/step - loss: 0.6328 - accuracy: 0.7071 - val_loss: 0.2501 - val_accuracy: 0.9688\n",
            "Epoch 6/50\n",
            "5/5 [==============================] - 2s 332ms/step - loss: 0.4862 - accuracy: 0.8357 - val_loss: 0.4845 - val_accuracy: 0.8438\n",
            "Epoch 7/50\n",
            "5/5 [==============================] - 2s 388ms/step - loss: 0.3659 - accuracy: 0.8625 - val_loss: 0.5250 - val_accuracy: 0.8125\n",
            "Epoch 8/50\n",
            "5/5 [==============================] - 2s 378ms/step - loss: 0.3662 - accuracy: 0.8438 - val_loss: 0.4029 - val_accuracy: 0.9062\n",
            "Epoch 9/50\n",
            "5/5 [==============================] - 2s 328ms/step - loss: 0.3146 - accuracy: 0.8857 - val_loss: 0.2447 - val_accuracy: 0.9062\n",
            "Epoch 10/50\n",
            "5/5 [==============================] - 2s 321ms/step - loss: 0.2100 - accuracy: 0.9286 - val_loss: 0.2511 - val_accuracy: 0.9375\n",
            "Epoch 11/50\n",
            "5/5 [==============================] - 2s 325ms/step - loss: 0.2933 - accuracy: 0.8929 - val_loss: 0.4083 - val_accuracy: 0.9062\n",
            "Epoch 12/50\n",
            "5/5 [==============================] - 2s 323ms/step - loss: 0.2359 - accuracy: 0.9000 - val_loss: 0.4015 - val_accuracy: 0.9062\n",
            "Epoch 13/50\n",
            "5/5 [==============================] - 2s 323ms/step - loss: 0.2882 - accuracy: 0.8714 - val_loss: 0.3355 - val_accuracy: 0.9375\n",
            "Epoch 14/50\n",
            "5/5 [==============================] - 2s 322ms/step - loss: 0.2429 - accuracy: 0.9214 - val_loss: 0.3657 - val_accuracy: 0.9375\n",
            "Epoch 15/50\n",
            "5/5 [==============================] - 2s 324ms/step - loss: 0.1748 - accuracy: 0.9500 - val_loss: 0.2135 - val_accuracy: 0.9688\n",
            "Epoch 16/50\n",
            "5/5 [==============================] - 2s 333ms/step - loss: 0.1858 - accuracy: 0.9429 - val_loss: 0.2610 - val_accuracy: 0.9688\n",
            "Epoch 17/50\n",
            "5/5 [==============================] - 2s 325ms/step - loss: 0.2051 - accuracy: 0.9357 - val_loss: 0.2421 - val_accuracy: 0.9375\n",
            "Epoch 18/50\n",
            "5/5 [==============================] - 2s 320ms/step - loss: 0.1190 - accuracy: 0.9786 - val_loss: 0.1434 - val_accuracy: 0.9688\n",
            "Epoch 19/50\n",
            "5/5 [==============================] - 2s 328ms/step - loss: 0.1788 - accuracy: 0.9357 - val_loss: 0.2643 - val_accuracy: 0.9375\n",
            "Epoch 20/50\n",
            "5/5 [==============================] - 2s 390ms/step - loss: 0.1721 - accuracy: 0.9214 - val_loss: 0.1506 - val_accuracy: 0.9688\n",
            "Epoch 21/50\n",
            "5/5 [==============================] - 2s 387ms/step - loss: 0.1846 - accuracy: 0.9357 - val_loss: 0.3573 - val_accuracy: 0.9062\n",
            "Epoch 22/50\n",
            "5/5 [==============================] - 2s 385ms/step - loss: 0.1524 - accuracy: 0.9571 - val_loss: 0.3958 - val_accuracy: 0.9062\n",
            "Epoch 23/50\n",
            "5/5 [==============================] - 2s 384ms/step - loss: 0.1566 - accuracy: 0.9688 - val_loss: 0.1357 - val_accuracy: 0.9688\n",
            "Epoch 24/50\n",
            "5/5 [==============================] - 2s 333ms/step - loss: 0.1309 - accuracy: 0.9714 - val_loss: 0.1579 - val_accuracy: 1.0000\n",
            "Epoch 25/50\n",
            "5/5 [==============================] - 2s 392ms/step - loss: 0.1144 - accuracy: 0.9688 - val_loss: 0.2429 - val_accuracy: 0.9375\n",
            "Epoch 26/50\n",
            "5/5 [==============================] - 2s 330ms/step - loss: 0.1399 - accuracy: 0.9643 - val_loss: 0.2377 - val_accuracy: 0.9688\n",
            "Epoch 27/50\n",
            "5/5 [==============================] - 2s 322ms/step - loss: 0.1090 - accuracy: 0.9714 - val_loss: 0.3354 - val_accuracy: 0.9375\n",
            "Epoch 28/50\n",
            "5/5 [==============================] - 2s 340ms/step - loss: 0.1148 - accuracy: 0.9786 - val_loss: 0.3392 - val_accuracy: 0.9062\n",
            "Epoch 29/50\n",
            "5/5 [==============================] - 2s 328ms/step - loss: 0.1137 - accuracy: 0.9857 - val_loss: 0.1847 - val_accuracy: 0.9375\n",
            "Epoch 30/50\n",
            "5/5 [==============================] - 2s 387ms/step - loss: 0.1201 - accuracy: 0.9875 - val_loss: 0.2246 - val_accuracy: 0.9375\n",
            "Epoch 31/50\n",
            "5/5 [==============================] - 2s 376ms/step - loss: 0.1149 - accuracy: 0.9688 - val_loss: 0.1692 - val_accuracy: 0.9688\n",
            "Epoch 32/50\n",
            "5/5 [==============================] - 2s 390ms/step - loss: 0.0687 - accuracy: 0.9929 - val_loss: 0.3869 - val_accuracy: 0.9062\n",
            "Epoch 33/50\n",
            "5/5 [==============================] - 2s 384ms/step - loss: 0.1037 - accuracy: 0.9812 - val_loss: 0.1897 - val_accuracy: 0.9688\n",
            "Epoch 34/50\n",
            "5/5 [==============================] - 2s 329ms/step - loss: 0.0815 - accuracy: 0.9714 - val_loss: 0.2388 - val_accuracy: 0.9688\n",
            "Epoch 35/50\n",
            "5/5 [==============================] - 2s 329ms/step - loss: 0.1294 - accuracy: 0.9500 - val_loss: 0.2723 - val_accuracy: 0.9688\n",
            "Epoch 36/50\n",
            "5/5 [==============================] - 2s 322ms/step - loss: 0.0664 - accuracy: 0.9786 - val_loss: 0.3646 - val_accuracy: 0.9062\n",
            "Epoch 37/50\n",
            "5/5 [==============================] - 2s 386ms/step - loss: 0.1024 - accuracy: 0.9714 - val_loss: 0.2416 - val_accuracy: 0.9375\n",
            "Epoch 38/50\n",
            "5/5 [==============================] - 2s 331ms/step - loss: 0.1158 - accuracy: 0.9643 - val_loss: 0.1265 - val_accuracy: 0.9688\n",
            "Epoch 39/50\n",
            "5/5 [==============================] - 2s 336ms/step - loss: 0.0758 - accuracy: 0.9857 - val_loss: 0.2089 - val_accuracy: 0.9375\n",
            "Epoch 40/50\n",
            "5/5 [==============================] - 2s 331ms/step - loss: 0.0779 - accuracy: 0.9786 - val_loss: 0.2607 - val_accuracy: 0.9375\n",
            "Epoch 41/50\n",
            "5/5 [==============================] - 2s 392ms/step - loss: 0.0823 - accuracy: 0.9857 - val_loss: 0.2051 - val_accuracy: 0.9688\n",
            "Epoch 42/50\n",
            "5/5 [==============================] - 2s 380ms/step - loss: 0.0911 - accuracy: 0.9812 - val_loss: 0.0898 - val_accuracy: 1.0000\n",
            "Epoch 43/50\n",
            "5/5 [==============================] - 2s 320ms/step - loss: 0.0929 - accuracy: 0.9714 - val_loss: 0.2097 - val_accuracy: 0.9688\n",
            "Epoch 44/50\n",
            "5/5 [==============================] - 2s 386ms/step - loss: 0.0902 - accuracy: 0.9786 - val_loss: 0.1850 - val_accuracy: 0.9375\n",
            "Epoch 45/50\n",
            "5/5 [==============================] - 2s 386ms/step - loss: 0.1170 - accuracy: 0.9571 - val_loss: 0.2154 - val_accuracy: 0.9375\n",
            "Epoch 46/50\n",
            "5/5 [==============================] - 2s 318ms/step - loss: 0.1005 - accuracy: 0.9714 - val_loss: 0.1819 - val_accuracy: 0.9375\n",
            "Epoch 47/50\n",
            "5/5 [==============================] - 2s 328ms/step - loss: 0.0626 - accuracy: 0.9929 - val_loss: 0.1859 - val_accuracy: 0.9688\n",
            "Epoch 48/50\n",
            "5/5 [==============================] - 2s 326ms/step - loss: 0.0778 - accuracy: 0.9786 - val_loss: 0.2266 - val_accuracy: 0.9375\n",
            "Epoch 49/50\n",
            "5/5 [==============================] - 2s 329ms/step - loss: 0.0742 - accuracy: 0.9857 - val_loss: 0.2664 - val_accuracy: 0.9375\n",
            "Epoch 50/50\n",
            "5/5 [==============================] - 2s 389ms/step - loss: 0.0506 - accuracy: 1.0000 - val_loss: 0.1884 - val_accuracy: 0.9375\n"
          ]
        }
      ],
      "source": [
        "History= model.fit_generator(\n",
        "    trainAug.flow(x_train,y_train,batch_size=32),\n",
        "    steps_per_epoch=len(x_train)//32,\n",
        "    validation_data=validAug.flow(x_test,y_test),\n",
        "    validation_steps= len(x_test)//32,\n",
        "    epochs= epoch)"
      ]
    },
    {
      "cell_type": "code",
      "execution_count": null,
      "metadata": {
        "colab": {
          "base_uri": "https://localhost:8080/",
          "height": 295
        },
        "id": "JiHQy_T9s8CU",
        "outputId": "ab6eccdd-8063-4df9-9360-d1cc0433b8e9"
      },
      "outputs": [
        {
          "output_type": "display_data",
          "data": {
            "text/plain": [
              "<Figure size 432x288 with 1 Axes>"
            ],
            "image/png": "[encoded data removed]"
          },
          "metadata": {
            "needs_background": "light"
          }
        }
      ],
      "source": [
        "import matplotlib.pyplot as plt\n",
        "plt.plot(History.history['loss'])\n",
        "plt.plot(History.history['accuracy'])\n",
        "plt.ylabel('Accuracy/Losses')\n",
        "plt.xlabel('Epochs')\n",
        "plt.title(\"Accuracy/Loss Graph\")\n",
        "plt.legend(['loss','accuracy'],loc= 'upper left')\n",
        "plt.show()"
      ]
    },
    {
      "cell_type": "code",
      "execution_count": null,
      "metadata": {
        "id": "e6Vtl-2ObSGP"
      },
      "outputs": [],
      "source": [
        "import pickle"
      ]
    },
    {
      "cell_type": "code",
      "execution_count": null,
      "metadata": {
        "colab": {
          "base_uri": "https://localhost:8080/"
        },
        "id": "U7bbtTBlcYDx",
        "outputId": "2eb93f04-c7b1-471a-d225-c0ef86c9ead2"
      },
      "outputs": [
        {
          "output_type": "stream",
          "name": "stdout",
          "text": [
            "INFO:tensorflow:Assets written to: /content/drive/MyDrive/Flipkart/model_output/imgclassmodel/assets\n"
          ]
        }
      ],
      "source": [
        "model.save(outputmodel)\n",
        "lbinarizer= open(\"/content/drive/MyDrive/Flipkart/model_output/imgclassmodel/imageclassificationbinarizer.pickle\",\"wb\")\n",
        "lbinarizer.write(pickle.dumps(lb))\n",
        "lbinarizer.close()"
      ]
    },
    {
      "cell_type": "code",
      "execution_count": null,
      "metadata": {
        "id": "bxHxixNdc8Mj"
      },
      "outputs": [],
      "source": [
        "from keras.models import load_model\n",
        "from collections import deque\n",
        "from google.colab.patches import cv2_imshow"
      ]
    },
    {
      "cell_type": "code",
      "execution_count": null,
      "metadata": {
        "id": "1Wl913NLiBI6"
      },
      "outputs": [],
      "source": [
        "model= load_model(\"/content/drive/MyDrive/Flipkart/model_output/imgclassmodel\")\n",
        "lb= pickle.loads(open(\"/content/drive/MyDrive/Flipkart/model_output/imgclassmodel/imageclassificationbinarizer.pickle\",\"rb\").read())\n",
        "#outputvideo= \"/content/output_file/test_output.avi\"\n",
        "mean= np.array([123.68,116.779,103.939][::1],dtype=\"float32\")\n",
        "Queue= deque(maxlen=128)"
      ]
    },
    {
      "cell_type": "code",
      "execution_count": null,
      "metadata": {
        "colab": {
          "base_uri": "https://localhost:8080/"
        },
        "id": "3UA9wWCr5Je3",
        "outputId": "3d41e34b-3552-46ca-b4e3-0a15167aabc9"
      },
      "outputs": [
        {
          "output_type": "stream",
          "name": "stdout",
          "text": [
            "['Caps and Hats' 'Lower Wears' 'Shoes and Boots' 'Upper Wears']\n"
          ]
        }
      ],
      "source": [
        "print(lb.classes_)"
      ]
    },
    {
      "cell_type": "code",
      "source": [
        "print(x_test)"
      ],
      "metadata": {
        "id": "isF9D8LZeqVj"
      },
      "execution_count": null,
      "outputs": []
    },
    {
      "cell_type": "code",
      "source": [
        "for img in x_test:\n",
        "  image= np.array(img.resize((224,244)))\n",
        "  print(\"shape \",image.shape)\n",
        "  model.predict(image).round()"
      ],
      "metadata": {
        "colab": {
          "base_uri": "https://localhost:8080/",
          "height": 217
        },
        "id": "NDAb1S--d12N",
        "outputId": "8f4eeb83-612e-420d-df7d-e83c16d886bf"
      },
      "execution_count": null,
      "outputs": [
        {
          "output_type": "error",
          "ename": "ValueError",
          "evalue": "ignored",
          "traceback": [
            "\u001b[0;31m---------------------------------------------------------------------------\u001b[0m",
            "\u001b[0;31mValueError\u001b[0m                                Traceback (most recent call last)",
            "\u001b[0;32m<ipython-input-32-c946323ebc40>\u001b[0m in \u001b[0;36m<module>\u001b[0;34m()\u001b[0m\n\u001b[1;32m      1\u001b[0m \u001b[0;32mfor\u001b[0m \u001b[0mimg\u001b[0m \u001b[0;32min\u001b[0m \u001b[0mx_test\u001b[0m\u001b[0;34m:\u001b[0m\u001b[0;34m\u001b[0m\u001b[0;34m\u001b[0m\u001b[0m\n\u001b[0;32m----> 2\u001b[0;31m   \u001b[0mimage\u001b[0m\u001b[0;34m=\u001b[0m \u001b[0mnp\u001b[0m\u001b[0;34m.\u001b[0m\u001b[0marray\u001b[0m\u001b[0;34m(\u001b[0m\u001b[0mimg\u001b[0m\u001b[0;34m.\u001b[0m\u001b[0mresize\u001b[0m\u001b[0;34m(\u001b[0m\u001b[0;34m(\u001b[0m\u001b[0;36m224\u001b[0m\u001b[0;34m,\u001b[0m\u001b[0;36m244\u001b[0m\u001b[0;34m)\u001b[0m\u001b[0;34m)\u001b[0m\u001b[0;34m)\u001b[0m\u001b[0;34m\u001b[0m\u001b[0;34m\u001b[0m\u001b[0m\n\u001b[0m\u001b[1;32m      3\u001b[0m   \u001b[0mprint\u001b[0m\u001b[0;34m(\u001b[0m\u001b[0;34m\"shape \"\u001b[0m\u001b[0;34m,\u001b[0m\u001b[0mimage\u001b[0m\u001b[0;34m.\u001b[0m\u001b[0mshape\u001b[0m\u001b[0;34m)\u001b[0m\u001b[0;34m\u001b[0m\u001b[0;34m\u001b[0m\u001b[0m\n\u001b[1;32m      4\u001b[0m   \u001b[0mmodel\u001b[0m\u001b[0;34m.\u001b[0m\u001b[0mpredict\u001b[0m\u001b[0;34m(\u001b[0m\u001b[0mimage\u001b[0m\u001b[0;34m)\u001b[0m\u001b[0;34m.\u001b[0m\u001b[0mround\u001b[0m\u001b[0;34m(\u001b[0m\u001b[0;34m)\u001b[0m\u001b[0;34m\u001b[0m\u001b[0;34m\u001b[0m\u001b[0m\n",
            "\u001b[0;31mValueError\u001b[0m: cannot resize this array: it does not own its data"
          ]
        }
      ]
    },
    {
      "cell_type": "code",
      "source": [],
      "metadata": {
        "id": "ve7Vh5roenAh"
      },
      "execution_count": null,
      "outputs": []
    }
  ],
  "metadata": {
    "accelerator": "GPU",
    "colab": {
      "provenance": [],
      "mount_file_id": "1hhRHV_pZnUBS064aWWzxsonFgxvc3hVw",
      "authorship_tag": "ABX9TyOnh8YikIxvDPvah+0ew+LW",
      "include_colab_link": true
    },
    "kernelspec": {
      "display_name": "Python 3",
      "name": "python3"
    },
    "language_info": {
      "name": "python"
    }
  },
  "nbformat": 4,
  "nbformat_minor": 0
}